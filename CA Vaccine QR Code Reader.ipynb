{
 "cells": [
  {
   "cell_type": "code",
   "execution_count": null,
   "id": "9286b00b",
   "metadata": {},
   "outputs": [],
   "source": [
    "# coding: utf-8\n",
    "\n",
    "import base64\n",
    "import json\n",
    "import re\n",
    "import zlib\n",
    "\n",
    "from pprint import pprint\n",
    "\n",
    "import cv2"
   ]
  },
  {
   "cell_type": "code",
   "execution_count": null,
   "id": "d36ce4a7",
   "metadata": {},
   "outputs": [],
   "source": [
    "img = cv2.imread('<QR Code image filename>') "
   ]
  },
  {
   "cell_type": "code",
   "execution_count": null,
   "id": "0af94c90",
   "metadata": {},
   "outputs": [],
   "source": [
    "detector = cv2.QRCodeDetector()\n",
    "data, bbox, straight_qrcode = detector.detectAndDecode(img)"
   ]
  },
  {
   "cell_type": "code",
   "execution_count": null,
   "id": "ad6535c9",
   "metadata": {},
   "outputs": [],
   "source": [
    "qr_data = data\n",
    "\n",
    "parts = re.findall(\"..\", qr_data[5:])\n",
    "\n",
    "jws = \"\"\n",
    "for p in parts:\n",
    "  jws += chr(int(p)+ 45)"
   ]
  },
  {
   "cell_type": "code",
   "execution_count": null,
   "id": "73142287",
   "metadata": {},
   "outputs": [],
   "source": [
    "def decode(data):\n",
    "  missing_padding = len(data) % 4\n",
    "  if missing_padding:\n",
    "      data += \"=\"* (4 - missing_padding)\n",
    "  return base64.urlsafe_b64decode(data)"
   ]
  },
  {
   "cell_type": "code",
   "execution_count": null,
   "id": "f403035f",
   "metadata": {},
   "outputs": [],
   "source": [
    "jws_parts = list(map(decode, jws.split(\".\")))\n",
    "shc_data = zlib.decompress(jws_parts[1], wbits=-15)\n",
    "\n",
    "print(\"SHC Data:\")\n",
    "# https://www2a.cdc.gov/vaccines/iis/iisstandards/vaccines.asp?rpt=tradename#:~:text=CVX%20codes%20are%20codes%20that,use%20in%20HL7%20data%20transmission.\n",
    "print(json.dumps(json.loads(shc_data), indent=2))"
   ]
  }
 ],
 "metadata": {
  "kernelspec": {
   "display_name": "Python 3",
   "language": "python",
   "name": "python3"
  },
  "language_info": {
   "codemirror_mode": {
    "name": "ipython",
    "version": 3
   },
   "file_extension": ".py",
   "mimetype": "text/x-python",
   "name": "python",
   "nbconvert_exporter": "python",
   "pygments_lexer": "ipython3",
   "version": "3.8.5"
  }
 },
 "nbformat": 4,
 "nbformat_minor": 5
}
